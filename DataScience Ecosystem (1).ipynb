{
 "cells": [
  {
   "cell_type": "markdown",
   "id": "8908bc18-6217-40cc-8bb5-5295dda590ab",
   "metadata": {},
   "source": [
    "# Data Science Tools and Ecosystem"
   ]
  },
  {
   "cell_type": "markdown",
   "id": "660c2e54-efe6-4cac-aa23-9d640cdbd80d",
   "metadata": {
    "tags": []
   },
   "source": [
    "In this notebook, Data Science Tools and Ecosystem are summarized."
   ]
  },
  {
   "cell_type": "markdown",
   "id": "1d54cef8-4334-4b0a-8561-83fd6842509b",
   "metadata": {},
   "source": [
    "**Objectives:**\n",
    "+ List popular languages for Data Science\n",
    "+ Describe the relevant features of open-source tools\n",
    "+ Describe data sets and sources of data"
   ]
  },
  {
   "cell_type": "markdown",
   "id": "5bdd3d52-ce8b-4193-bc52-c0d749a0f6b9",
   "metadata": {},
   "source": [
    "Some of the popular languages that Data Scientists use are:\n",
    "1. Python\n",
    "2. R programming language\n",
    "3. SQL\n"
   ]
  },
  {
   "cell_type": "markdown",
   "id": "7118528b-1228-4a62-bf66-ce4fbb83d2bc",
   "metadata": {},
   "source": [
    "Some of the commonly used libraries used by Data Scientists include:\n",
    "1. Scientific Computing Libraries\n",
    "2. Visualization Libraries\n",
    "3. High Level Machine Learning Libraries\n",
    "\n",
    "\n"
   ]
  },
  {
   "cell_type": "markdown",
   "id": "80d81b6d-d0fb-4414-ba95-aa191b08e06f",
   "metadata": {},
   "source": [
    "|Data Science Tools|\n",
    "|------------------|\n",
    "|R Studio |\n",
    "|Apache Spark|\n",
    "|TensorFlow|"
   ]
  },
  {
   "cell_type": "markdown",
   "id": "5d8de94b-8eb8-4cf6-9bce-56511a08b454",
   "metadata": {},
   "source": [
    "### Below are a few examples of evaluating arithmetic expressions in Python\n"
   ]
  },
  {
   "cell_type": "code",
   "execution_count": 3,
   "id": "13ca4d03-43dc-4fe5-95dd-2ef984ca2ba9",
   "metadata": {
    "tags": []
   },
   "outputs": [
    {
     "data": {
      "text/plain": [
       "17"
      ]
     },
     "execution_count": 3,
     "metadata": {},
     "output_type": "execute_result"
    }
   ],
   "source": [
    "# This a simple arithmetic expression to mutiply then add integers\n",
    "\n",
    "(3*4)+5\n"
   ]
  },
  {
   "cell_type": "code",
   "execution_count": 4,
   "id": "429da5ba-05cc-44ba-bbd0-904c743125a2",
   "metadata": {
    "tags": []
   },
   "outputs": [
    {
     "data": {
      "text/plain": [
       "3.3333333333333335"
      ]
     },
     "execution_count": 4,
     "metadata": {},
     "output_type": "execute_result"
    }
   ],
   "source": [
    "# This will convert 200 minutes to hours by diving by 60\n",
    "\n",
    "200/60\n"
   ]
  },
  {
   "cell_type": "markdown",
   "id": "2e6865b0-de48-45a2-b40f-11ba1debecbb",
   "metadata": {},
   "source": [
    "## Author\n",
    "Zille Huma\n"
   ]
  },
  {
   "cell_type": "code",
   "execution_count": null,
   "id": "f866a1c0-5996-4f8e-bbfa-57535347e87e",
   "metadata": {},
   "outputs": [],
   "source": []
  }
 ],
 "metadata": {
  "kernelspec": {
   "display_name": "Python",
   "language": "python",
   "name": "conda-env-python-py"
  },
  "language_info": {
   "codemirror_mode": {
    "name": "ipython",
    "version": 3
   },
   "file_extension": ".py",
   "mimetype": "text/x-python",
   "name": "python",
   "nbconvert_exporter": "python",
   "pygments_lexer": "ipython3",
   "version": "3.7.12"
  }
 },
 "nbformat": 4,
 "nbformat_minor": 5
}
